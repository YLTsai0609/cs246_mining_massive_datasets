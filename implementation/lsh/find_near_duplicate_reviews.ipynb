{
 "cells": [
  {
   "cell_type": "markdown",
   "metadata": {
    "colab_type": "text",
    "id": "5Eb0J64Ojfh9"
   },
   "source": [
    "## Locality-sensitive hashing (LSH) algorithm\n",
    "\n",
    "Formally, LSH is an algorithm that finds approximate or exact duplicates in high dimensional spaces (e.g. images, documents, audio). The main idea of LSH is to use a group of functions to conduct similarity preserving hashing into \"buckets\". Using this approach, the nearest neighbours will land in the same bucket with high probability, and the data points that are distant from each other will very likely be hashed into different buckets. It is worth noting the difference to the classical hashing functions, which try to avoid collisions.\n",
    "\n",
    "The general framework consists of the following steps:\n",
    "1.   Feature extraction/dimensionality reduction (e.g. random hyperplanes technique with cosine distance (implemented below))\n",
    "2.   AND/OR construction to report duplicate candidates\n",
    "3.   Refinement - calculation of exact distance between candidates\n",
    "\n",
    "For details, you can take a look at the implementation.\n",
    "\n",
    "Using this method we ensure **correctness, but not completeness.** This means that the found duplicates are indeed duplicates (due to refinement step), but it is probable that we haven't found all of them. In big data, the success of an algorithm is ofter measured by its runtime. Omitting pairwise similarity computation, we reduce the runtime from exponential to linear w.r.t the number of data points.\n",
    "\n",
    "\n",
    "Some of the exciting large scale use cases of LSH:\n",
    "*   **Uber:** To detect fraudulent drivers, similar trips are detected based on their spatial properties. Switching from N^2 method to the LSH, the computation time decreased from 55 hours to just 4 hours.\n",
    "*   **Google:** VisualRank - Google's image search technology uses LSH to find similar images at scale.\n",
    "*   **Genome-wide association study:** LSH is used for finding similar gene expressions in genome databases\n",
    "[https://eng.uber.com/lsh/]"
   ]
  },
  {
   "cell_type": "markdown",
   "metadata": {
    "colab_type": "text",
    "id": "6gay_mu9KK4G"
   },
   "source": [
    "## Duplicate reviews detection in Yelp dataset\n",
    "\n",
    "Our goal is to identify duplicate reviews in Yelp dataset.\n",
    "\n",
    "![alt text](https://is1-ssl.mzstatic.com/image/thumb/Purple118/v4/63/d7/f9/63d7f93a-bc7d-1388-48ab-fa4016ed4830/AppIcon-1x_U007emarketing-0-0-GLES2_U002c0-512MB-sRGB-0-0-0-85-220-0-0-0-6.png/246x0w.jpg)</br>\n",
    "It could be useful to detect spam or very similar reviews written for many restarants. For this task, we are working with the reviews submitted to the restaurants in Las Vegas.\n",
    "\n",
    "The data includes:\n",
    "* The preprocessed (sparse) data matrix: [bow_subset.npz](https://syncandshare.lrz.de/dl/fiUuDugamX2JCH33hkxYXgdF)\n",
    "* The words in the vocabulary: [top_25k_words.npy](https://syncandshare.lrz.de/dl/fiMX6taWPMEQ9aaznq4oadyq)\n",
    "* Orginal raw data: [reviews_subset.json](https://syncandshare.lrz.de/dl/fiLLqkiVLXGQPnrj7UvLtBbN)\n",
    "\n",
    "Implementation based on the programming task in the course Mining Massive Datasets (Year: 2018) at the Technical University of Munich "
   ]
  },
  {
   "cell_type": "markdown",
   "metadata": {
    "colab_type": "text",
    "id": "x7FrTswlOKhc"
   },
   "source": [
    "### Import libraries"
   ]
  },
  {
   "cell_type": "code",
   "execution_count": 1,
   "metadata": {
    "ExecuteTime": {
     "end_time": "2021-07-04T10:48:24.718312Z",
     "start_time": "2021-07-04T10:48:21.669121Z"
    },
    "colab": {
     "autoexec": {
      "startup": false,
      "wait_interval": 0
     }
    },
    "colab_type": "code",
    "id": "O9hWJb7IjfiB"
   },
   "outputs": [
    {
     "data": {
      "text/html": [
       "        <script type=\"text/javascript\">\n",
       "        window.PlotlyConfig = {MathJaxConfig: 'local'};\n",
       "        if (window.MathJax) {MathJax.Hub.Config({SVG: {font: \"STIX-Web\"}});}\n",
       "        if (typeof require !== 'undefined') {\n",
       "        require.undef(\"plotly\");\n",
       "        requirejs.config({\n",
       "            paths: {\n",
       "                'plotly': ['https://cdn.plot.ly/plotly-latest.min']\n",
       "            }\n",
       "        });\n",
       "        require(['plotly'], function(Plotly) {\n",
       "            window._Plotly = Plotly;\n",
       "        });\n",
       "        }\n",
       "        </script>\n",
       "        "
      ]
     },
     "metadata": {},
     "output_type": "display_data"
    },
    {
     "data": {
      "text/html": [
       "        <script type=\"text/javascript\">\n",
       "        window.PlotlyConfig = {MathJaxConfig: 'local'};\n",
       "        if (window.MathJax) {MathJax.Hub.Config({SVG: {font: \"STIX-Web\"}});}\n",
       "        if (typeof require !== 'undefined') {\n",
       "        require.undef(\"plotly\");\n",
       "        requirejs.config({\n",
       "            paths: {\n",
       "                'plotly': ['https://cdn.plot.ly/plotly-latest.min']\n",
       "            }\n",
       "        });\n",
       "        require(['plotly'], function(Plotly) {\n",
       "            window._Plotly = Plotly;\n",
       "        });\n",
       "        }\n",
       "        </script>\n",
       "        "
      ]
     },
     "metadata": {},
     "output_type": "display_data"
    }
   ],
   "source": [
    "from os.path import join as PJ\n",
    "import numpy as np\n",
    "import scipy.sparse as sp\n",
    "import re\n",
    "import json\n",
    "import time\n",
    "# import cupy\n",
    "\n",
    "from scipy.sparse import linalg as spl\n",
    "from collections import defaultdict\n",
    "from IPython.display import Markdown, display\n",
    "\n",
    "import matplotlib.pyplot as plt\n",
    "\n",
    "%matplotlib inline\n",
    "\n",
    "from plotly.offline import iplot, init_notebook_mode\n",
    "import plotly.graph_objs as go\n",
    "import cufflinks as cf\n",
    "import ipywidgets as widgets\n",
    "from ipywidgets import interact, interact_manual\n",
    "import pandas as pd\n",
    "import numpy as np\n",
    "import plotly.express as px\n",
    "import cufflinks\n",
    "cf.go_offline(connected=True)\n",
    "init_notebook_mode(connected=True)"
   ]
  },
  {
   "cell_type": "markdown",
   "metadata": {
    "colab_type": "text",
    "id": "SPmaD-CHjfiO"
   },
   "source": [
    "### Loading data"
   ]
  },
  {
   "cell_type": "code",
   "execution_count": 2,
   "metadata": {
    "ExecuteTime": {
     "end_time": "2021-07-04T10:48:26.783844Z",
     "start_time": "2021-07-04T10:48:24.719693Z"
    },
    "colab": {
     "autoexec": {
      "startup": false,
      "wait_interval": 0
     }
    },
    "colab_type": "code",
    "id": "z4vu_gaFjfiT"
   },
   "outputs": [],
   "source": [
    "words = np.load(PJ('data','top_25k_words.npy'))\n",
    "bow_subset = sp.load_npz(PJ('data','bow_subset.npz'))\n",
    "N = bow_subset.shape[0]\n",
    "\n",
    "with open(PJ('data','reviews_subset.json') , 'r') as f:\n",
    "    reviews = json.load(f)"
   ]
  },
  {
   "cell_type": "markdown",
   "metadata": {
    "colab_type": "text",
    "id": "IM9cK2zZjfia"
   },
   "source": [
    "The shape of the \"bow-subset\" data matrix should be $100K \\times 25K$. There are $100K$ reviews, and each review is represented as bag-of-words vector of size $25K$. We can see also which words the dictionary consists of. At the position of a word, there is a number of occurences of the word in a given review."
   ]
  },
  {
   "cell_type": "code",
   "execution_count": 3,
   "metadata": {
    "ExecuteTime": {
     "end_time": "2021-07-04T10:48:26.789425Z",
     "start_time": "2021-07-04T10:48:26.785901Z"
    },
    "colab": {
     "autoexec": {
      "startup": false,
      "wait_interval": 0
     },
     "base_uri": "https://localhost:8080/",
     "height": 52
    },
    "colab_type": "code",
    "executionInfo": {
     "elapsed": 554,
     "status": "ok",
     "timestamp": 1525002600922,
     "user": {
      "displayName": "Piotr Tatarczyk",
      "photoUrl": "https://lh3.googleusercontent.com/a/default-user=s128",
      "userId": "105851496253926425076"
     },
     "user_tz": -120
    },
    "id": "Lu3Rehw-jfic",
    "outputId": "dcd8ef91-f027-4e62-90e9-40c789c7905d"
   },
   "outputs": [
    {
     "name": "stdout",
     "output_type": "stream",
     "text": [
      "The shape of the data matrix:  (100000, 25000)\n",
      "The first word from the bag of words: food\n"
     ]
    }
   ],
   "source": [
    "print(\"The shape of the data matrix: \", bow_subset.shape)\n",
    "print(\"The first word from the bag of words:\", words[0])"
   ]
  },
  {
   "cell_type": "markdown",
   "metadata": {
    "colab_type": "text",
    "id": "vtyyFJlpjfi1"
   },
   "source": [
    "### Exemplary review from the raw dataset:"
   ]
  },
  {
   "cell_type": "code",
   "execution_count": 4,
   "metadata": {
    "ExecuteTime": {
     "end_time": "2021-07-04T10:48:26.925159Z",
     "start_time": "2021-07-04T10:48:26.790780Z"
    },
    "colab": {
     "autoexec": {
      "startup": false,
      "wait_interval": 0
     },
     "base_uri": "https://localhost:8080/",
     "height": 179
    },
    "colab_type": "code",
    "executionInfo": {
     "elapsed": 538,
     "status": "ok",
     "timestamp": 1525002710785,
     "user": {
      "displayName": "Piotr Tatarczyk",
      "photoUrl": "https://lh3.googleusercontent.com/a/default-user=s128",
      "userId": "105851496253926425076"
     },
     "user_tz": -120
    },
    "id": "_HaVf-8ojfi4",
    "outputId": "accc241d-8582-4a2d-9310-dbe8394d62be"
   },
   "outputs": [
    {
     "data": {
      "text/plain": [
       "{'review_id': '0Lx-agcwqjNhS4JtCVqkHQ',\n",
       " 'user_id': 'M63uPVZtCv7ReY2RgJRmOw',\n",
       " 'business_id': 'nnDLapJk1z2NJE0-XzwMlQ',\n",
       " 'stars': 5,\n",
       " 'text': \"The surf and turf here was one of the best I've had.\\n\\nFilet mignon and lobster tail was very good.  i generally dont think the food in Vegas is great, but after being dissappointed on many occasions, I was pleasantly surprised with the quality of our meal.  Thanks to the Taste, i was lured to this restaurant only to find that it is a somehat hidden jewel in New York New York close to the sometimes obnoxious piana bar time square.  \\n\\nThe side of green beans were delish and the potatos are just meh.\\n\\nFor desert they  served an extremely delicious lemon pudding which taste more tart than pudding....it was fabulous.\\n\\nI think Gallaghers is good for couples, groups, and even kids.\",\n",
       " 'biz': {'name': \"Gallagher's Steakhouse\",\n",
       "  'city': 'Las Vegas',\n",
       "  'categories': ['Restaurants', 'Steakhouses']}}"
      ]
     },
     "execution_count": 4,
     "metadata": {},
     "output_type": "execute_result"
    }
   ],
   "source": [
    "reviews[0]"
   ]
  },
  {
   "cell_type": "markdown",
   "metadata": {
    "colab_type": "text",
    "id": "XK5WA3W-jfjO"
   },
   "source": [
    "## Implementaion\n",
    "\n",
    "The main task is to implement two functions that:\n",
    "1.   Compute the cosine distance between two rows of a sparse matrix\n",
    "2.   Conduct locality sensitive hashing\n",
    "\n",
    "The LSH function will generate duplicate candidates based on $b$ bands and $r$ rows per band. Subsequently, it will compute the exact cosine distance between candidates and report the duplicates with cosine distance $<d$\n",
    "\n"
   ]
  },
  {
   "cell_type": "markdown",
   "metadata": {
    "colab_type": "text",
    "id": "AOKx1p15jfjR"
   },
   "source": [
    "### 1. The cosine distance between two sparse vectors using scipy.sparse.\n",
    "\n",
    "<b>Parameters</b>:<br/>\n",
    "\n",
    "<i>X</i> :  sp.spmatrix, shape [N, K] (Sparse data matrix)<br/>\n",
    "<i>i</i> :  int (Index of the first row) <br/>\n",
    "<i>j</i> :  int (Index of the second row) <br/>\n",
    "\n",
    "<b>Return</b>: <br/> \n",
    "<i>d</i> :  float (Cosine distance between the two rows of the sparse matrix)\n"
   ]
  },
  {
   "cell_type": "code",
   "execution_count": 5,
   "metadata": {
    "ExecuteTime": {
     "end_time": "2021-07-04T10:48:27.019124Z",
     "start_time": "2021-07-04T10:48:26.927808Z"
    },
    "colab": {
     "autoexec": {
      "startup": false,
      "wait_interval": 0
     }
    },
    "colab_type": "code",
    "id": "zQLVRki8jfjT"
   },
   "outputs": [],
   "source": [
    "def cosine_distance(X, i, j):\n",
    "\n",
    "    i_norm = spl.norm(X[i])\n",
    "    j_norm = spl.norm(X[j])\n",
    "    ij_dot = X[i].dot(X[j].T)[0, 0]\n",
    "\n",
    "    return 1-ij_dot/(i_norm*j_norm)"
   ]
  },
  {
   "cell_type": "markdown",
   "metadata": {
    "colab_type": "text",
    "id": "J1930gldVqac"
   },
   "source": [
    "### 2. Locality sensitive hashing\n",
    "\n",
    "<b>Parameters</b>:<br/>\n",
    "\n",
    "<i>X</i> :  sp.spmatrix, shape [N, K] (Sparse data matrix)<br/>\n",
    "<i>b</i> :  int (Number of bands) <br/>\n",
    "<i>r</i> :  int (Number of rows per band) <br/>\n",
    "\n",
    "<b>Return</b>: <br/> \n",
    "<i>duplicates</i> :  {(ID1, ID2, d_{12}), ..., (IDX, IDY, d_{xy})}. A set of tuples containing: (ID of the 1. review), (ID of the 2. review), (The cosine distance between them)<br/>\n",
    "\n",
    "<i>n_candidates</i> : int (Number of candidate pairs)"
   ]
  },
  {
   "cell_type": "markdown",
   "metadata": {
    "colab_type": "text",
    "id": "xLthc6XMWSiV"
   },
   "source": [
    "## CPU Version with Numpy"
   ]
  },
  {
   "cell_type": "code",
   "execution_count": 6,
   "metadata": {
    "ExecuteTime": {
     "end_time": "2021-07-04T10:48:27.149141Z",
     "start_time": "2021-07-04T10:48:27.021904Z"
    },
    "colab": {
     "autoexec": {
      "startup": false,
      "wait_interval": 0
     }
    },
    "colab_type": "code",
    "id": "z0IEz8g2jfja"
   },
   "outputs": [],
   "source": [
    "def LSH(X, b=8, r=32, d=0.3):\n",
    "\n",
    "    np.random.seed(158)\n",
    "    N, D = X.shape\n",
    "    \n",
    "    # Generate b*r x N matrix holding vectors for random projections in each row\n",
    "    projection_vectors = np.random.normal(0.0, 1.0, (D, b*r))\n",
    "    \n",
    "    # conduct random projections\n",
    "    random_projections = X.dot(projection_vectors)\n",
    "    random_projections = np.reshape(random_projections, (N, b, r))\n",
    "    random_projections = np.reshape(random_projections, (N, b, r))\n",
    "    random_projections = random_projections >= 0\n",
    "    \n",
    "    # hash each band of random projections\n",
    "    vals = 2**np.repeat([np.repeat([np.arange(r)], b, axis=0)], N, axis=0)\n",
    "    hashed_values = np.multiply(random_projections, vals)\n",
    "    hashed_values = np.sum(hashed_values, axis=2)\n",
    "\n",
    "    \n",
    "    # find candidates\n",
    "    candidates = []\n",
    "    for i in range(b):\n",
    "        un_values, counts = np.unique(hashed_values[:, i], return_counts=True) # get unique integers and their count\n",
    "        non_unique_values = un_values[counts > 1] # identify integers which appear more than once\n",
    "        for val in non_unique_values: # store duplicate integers as candidates\n",
    "            candidates.append(np.where(hashed_values[:, i] == val)[0])\n",
    "    n_candidates = len(candidates)\n",
    "    \n",
    "    # get cosine distance for every candidate\n",
    "    dist = [cosine_distance(X, cand[0], cand[1]) for cand in candidates] # get the distance for all candidates\n",
    "    \n",
    "    # get duplicates\n",
    "    duplicates = set((candidates[i][0], candidates[i][1], dist[i]) for i in range(len(dist)) if dist[i] <= d ) \n",
    "    \n",
    "    return duplicates, n_candidates"
   ]
  },
  {
   "cell_type": "code",
   "execution_count": 51,
   "metadata": {
    "ExecuteTime": {
     "end_time": "2021-07-04T11:36:37.827204Z",
     "start_time": "2021-07-04T11:36:37.806083Z"
    }
   },
   "outputs": [],
   "source": [
    "from typing import Tuple, Set\n",
    "from scipy.sparse import linalg as spl\n",
    "from numpy import linalg as LA \n",
    "\n",
    "class RandomProjectionLSH():\n",
    "    \n",
    "    def __init__(self,\n",
    "                n_signature : int,\n",
    "                n_input_dimension : int,\n",
    "                b : int,\n",
    "                r : int,\n",
    "                threshold = float,\n",
    "                seed = int):\n",
    "        \"\"\"\n",
    "        Consturct Random Projection LSH to find the candidate pair\n",
    "        Random Projection is a hash function for cosine similarity in LSH family\n",
    "        \"\"\"\n",
    "        assert n_signature == b * r, 'signatures should be bands (b) * rows per band (r)'\n",
    "        np.random.seed(seed)\n",
    "        \n",
    "        self.n_input_dimension = n_input_dimension\n",
    "        self.n_signature = n_signature\n",
    "        self.threshold = threshold\n",
    "        self.b = b\n",
    "        self.r = r\n",
    "        # create a gaussion distributed matrix\n",
    "        self.hyperplanes = np.random.randn(n_input_dimension, n_signature)\n",
    "        self.signature = None\n",
    "        self.n_observation = None\n",
    "    \n",
    "    def fit(self, input_matrix : np.ndarray):\n",
    "        \"\"\"\n",
    "        input_matrix (np.ndarray) - (n_observations, n_input_dimension)\n",
    "        \n",
    "        Hint:\n",
    "        \n",
    "        Use input_matrix.dot(self.hyperplane) instead of \n",
    "        np.dot(input_matrix, self.hyperplane) due to some implementation details\n",
    "        https://stackoverflow.com/questions/33817189/why-is-vector-dot-product-slower-with-scipys-sparse-csr-matrix-than-numpys-den\n",
    "        \n",
    "        \"\"\"\n",
    "        self.n_observation = input_matrix.shape[0]\n",
    "        self.input_matrix = input_matrix\n",
    "        # build signature , shape (n_observation, n_signature)\n",
    "        self.signature = input_matrix.dot(self.hyperplanes)\n",
    "        self.signature = np.reshape(self.signature,\n",
    "                                    (self.n_observation, self.b, self.r))\n",
    "        self.signature = self.signature >= 0\n",
    "        self.hashed_values = self._generate_hash()\n",
    "        \n",
    "    def find_candidates(self, dtype='dense') -> Tuple[Set, int]:\n",
    "        \"\"\"\n",
    "        Apply OR logic\n",
    "        \n",
    "        In each band\n",
    "        check is there other observation in the same bucket\n",
    "        if yes, there is a cindidate\n",
    "            output : \n",
    "            \n",
    "            duplicates : candidate pair by id\n",
    "            n_candidates : for all ids, number of candidates\n",
    "        \"\"\"\n",
    "        if dtype == 'dense':\n",
    "            cos_sim = self._consine_similarity_dense\n",
    "        elif dtype == 'sparse':\n",
    "            cos_sim = self._cosine_similarity_sparse\n",
    "            \n",
    "        candidates = []\n",
    "        for i in range(self.b):\n",
    "            un_values, counts = np.unique(self.hashed_values[:, i],\n",
    "                                          return_counts=True) # get unique integers and their count\n",
    "            \n",
    "            non_unique_values = un_values[counts > 1] # identify integers which appear more than once\n",
    "            \n",
    "            for val in non_unique_values: # store duplicate integers as candidates\n",
    "                candidates.append(np.where(\n",
    "                    self.hashed_values[:, i] == val)[0])\n",
    "        \n",
    "        n_candidates = len(candidates)\n",
    "\n",
    "        # get cosine distance for every candidate\n",
    "        dist = [cos_sim(self.input_matrix, cand[0], cand[1])\n",
    "                for cand \n",
    "                in candidates] # get the distance for all candidates\n",
    "\n",
    "        # get duplicates\n",
    "        duplicates = set(\n",
    "            (candidates[i][0], candidates[i][1], dist[i])\n",
    "            for i in range(len(dist)) \n",
    "            if dist[i] >= self.threshold) \n",
    "\n",
    "        return duplicates, n_candidates\n",
    "    \n",
    "    def _consine_similarity_dense(self, X, i, j) -> float:\n",
    "        \n",
    "        return np.dot(X[i], X[j]) / (LA.norm(X[i]) * LA.norm(X[j]))\n",
    "    \n",
    "    def _cosine_similarity_sparse(self, X, i, j) -> float:\n",
    "        \"\"\"\n",
    "        This function is for sparse vector calculations\n",
    "        \"\"\"\n",
    "        \n",
    "        i_norm = spl.norm(X[i])\n",
    "        j_norm = spl.norm(X[j])\n",
    "        ij_dot = X[i].dot(X[j].T)[0, 0]\n",
    "\n",
    "        return ij_dot/(i_norm*j_norm)\n",
    "    \n",
    "    def _generate_hash(self) -> np.ndarray:\n",
    "        \"\"\"\n",
    "        Apply and logic for rows per band\n",
    "        \n",
    "        Hash all of element in \n",
    "        the signature matrix(n_observations, b, r)\n",
    "        into bucket by element-wise multify between\n",
    "        \n",
    "        signature and bucket_id\n",
    "        \n",
    "        output : \n",
    "            signature_matrix (band) shape : (n_oberservation, b)\n",
    "        \"\"\"\n",
    "        vals = 2**np.repeat(\n",
    "            [np.repeat([np.arange(self.r)], self.b, axis=0)],\n",
    "            self.n_observation,\n",
    "            axis=0)\n",
    "        \n",
    "        # elementwise product\n",
    "        hashed_values = np.multiply(self.signature, vals)\n",
    "        hashed_values = np.sum(hashed_values, axis=2)\n",
    "        return hashed_values"
   ]
  },
  {
   "cell_type": "code",
   "execution_count": null,
   "metadata": {},
   "outputs": [],
   "source": []
  },
  {
   "cell_type": "code",
   "execution_count": null,
   "metadata": {},
   "outputs": [],
   "source": []
  },
  {
   "cell_type": "code",
   "execution_count": null,
   "metadata": {},
   "outputs": [],
   "source": []
  },
  {
   "cell_type": "markdown",
   "metadata": {
    "colab_type": "text",
    "id": "1hyX6fEMWD11"
   },
   "source": [
    "## GPU Version with CuPy #\n",
    "This is a naive implementation with the CuPy library in an attempt to accelerate the computations even further. Unfortunately, the computation delivers unstable results. More on the topic: http://gamma.cs.unc.edu/KNN/gpuknn.pdf [Fast GPU-based Locality Sensitive Hashing for K-Nearest Neighbor Computation]"
   ]
  },
  {
   "cell_type": "code",
   "execution_count": 52,
   "metadata": {
    "ExecuteTime": {
     "end_time": "2021-07-04T11:36:39.678777Z",
     "start_time": "2021-07-04T11:36:39.675473Z"
    },
    "colab": {
     "autoexec": {
      "startup": false,
      "wait_interval": 0
     }
    },
    "colab_type": "code",
    "id": "h_l1PENVMvsK"
   },
   "outputs": [],
   "source": [
    "# !apt -y install libcusparse8.0 libnvrtc8.0 libnvtoolsext1\n",
    "# !ln -snf /usr/lib/x86_64-linux-gnu/libnvrtc-builtins.so.8.0 /usr/lib/x86_64-linux-gnu/libnvrtc-builtins.so\n",
    "# !pip install cupy-cuda80 chainer"
   ]
  },
  {
   "cell_type": "code",
   "execution_count": 53,
   "metadata": {
    "ExecuteTime": {
     "end_time": "2021-07-04T11:36:39.847820Z",
     "start_time": "2021-07-04T11:36:39.843359Z"
    },
    "colab": {
     "autoexec": {
      "startup": false,
      "wait_interval": 0
     }
    },
    "colab_type": "code",
    "id": "2bDLW7u1VhNv"
   },
   "outputs": [],
   "source": [
    "# def LSH_GPU(X, b=8, r=32, d=0.3):\n",
    "\n",
    "#     cupy.random.seed()\n",
    "#     N, D = X.shape\n",
    "#     X = cupy.sparse.csr_matrix(X) # bow_subset is a csr sparse matrix (Compressed sparse row matrix)\n",
    "    \n",
    "#     # Generate b*r x N matrix holding vectors for random projections in each row\n",
    "#     projection_vectors = cupy.random.normal(0.0, 1.0, (D, b*r))\n",
    "\n",
    "#     # Conduct random projections\n",
    "#     random_projections = X.dot(projection_vectors)\n",
    "#     random_projections = cupy.reshape(random_projections, (N, b, r))\n",
    "#     random_projections = cupy.reshape(random_projections, (N, b, r))    \n",
    "#     random_projections = random_projections >= 0\n",
    "    \n",
    "    \n",
    "#     # Hash each band of random projections\n",
    "#     vals = 2**np.repeat([np.repeat([np.arange(r)], b, axis=0)], N, axis=0)\n",
    "#     vals = cupy.array(vals)\n",
    "#     hashed_values = cupy.multiply(random_projections, vals)\n",
    "#     hashed_values = cupy.sum(hashed_values, axis=2)\n",
    "\n",
    "#     # Return to numpy  (Needed due to absence of equivalents of certain numpy libraries)\n",
    "#     X = bow_subset\n",
    "#     random_projections = cupy.asnumpy(random_projections)\n",
    "#     projection_vectors = cupy.asnumpy(projection_vectors)\n",
    "#     hashed_values = cupy.asnumpy(hashed_values)\n",
    "    \n",
    "#     # find candidates\n",
    "#     candidates = []\n",
    "#     for i in range(b):\n",
    "#         un_values, counts = np.unique(hashed_values[:, i], return_counts=True) # get unique integers and their count (Function \"unique\" is currently missing in CuPy)\n",
    "#         non_unique_values = un_values[counts > 1] # identify integers which appear more than once\n",
    "#         for val in non_unique_values: # store duplicate integers as candidates\n",
    "#             candidates.append(np.where(hashed_values[:, i] == val)[0])\n",
    "#     n_candidates = len(candidates)\n",
    "    \n",
    "#     # get cosine distance for every candidate\n",
    "#     dist = [cosine_distance(X, cand[0], cand[1]) for cand in candidates] # get the distance for all candidates\n",
    "    \n",
    "#     # get duplicates\n",
    "#     duplicates = set((candidates[i][0], candidates[i][1], dist[i]) for i in range(len(dist)) if dist[i] <= d ) \n",
    "    \n",
    "#     return duplicates, n_candidates"
   ]
  },
  {
   "cell_type": "markdown",
   "metadata": {
    "colab_type": "text",
    "id": "hCiNY03wY_B_"
   },
   "source": [
    "#### Runtime comparison in seconds:"
   ]
  },
  {
   "cell_type": "code",
   "execution_count": 54,
   "metadata": {
    "ExecuteTime": {
     "end_time": "2021-07-04T11:36:40.552024Z",
     "start_time": "2021-07-04T11:36:40.546602Z"
    }
   },
   "outputs": [
    {
     "data": {
      "text/plain": [
       "(100000, 25000)"
      ]
     },
     "execution_count": 54,
     "metadata": {},
     "output_type": "execute_result"
    }
   ],
   "source": [
    "bow_subset.shape"
   ]
  },
  {
   "cell_type": "code",
   "execution_count": 55,
   "metadata": {
    "ExecuteTime": {
     "end_time": "2021-07-04T11:36:42.754495Z",
     "start_time": "2021-07-04T11:36:41.025050Z"
    }
   },
   "outputs": [
    {
     "name": "stdout",
     "output_type": "stream",
     "text": [
      "(Runtime in seconds) LSH:  1.7249212265014648\n"
     ]
    }
   ],
   "source": [
    "t1 = time.time()\n",
    "duplicates, n_candidates= LSH(bow_subset, b=6, r=28, d=0.2)\n",
    "print(\"(Runtime in seconds) LSH: \", time.time() - t1)"
   ]
  },
  {
   "cell_type": "code",
   "execution_count": 56,
   "metadata": {
    "ExecuteTime": {
     "end_time": "2021-07-04T11:36:42.777328Z",
     "start_time": "2021-07-04T11:36:42.772245Z"
    }
   },
   "outputs": [
    {
     "data": {
      "text/plain": [
       "{(1809, 13244, 0.0),\n",
       " (6600, 93310, 0.0),\n",
       " (17779, 72702, 1.1102230246251565e-16),\n",
       " (28508, 64525, 0.10912919362525197),\n",
       " (32066, 71726, 0.0),\n",
       " (35163, 82597, 1.1102230246251565e-16),\n",
       " (42795, 95179, 0.0),\n",
       " (47940, 65607, 0.0)}"
      ]
     },
     "execution_count": 56,
     "metadata": {},
     "output_type": "execute_result"
    }
   ],
   "source": [
    "duplicates"
   ]
  },
  {
   "cell_type": "code",
   "execution_count": 57,
   "metadata": {
    "ExecuteTime": {
     "end_time": "2021-07-04T11:36:45.478675Z",
     "start_time": "2021-07-04T11:36:43.797890Z"
    }
   },
   "outputs": [
    {
     "name": "stdout",
     "output_type": "stream",
     "text": [
      "(Runtime in seconds) LSH:  1.6758904457092285\n"
     ]
    }
   ],
   "source": [
    "t1 = time.time()\n",
    "lsh_cosine = RandomProjectionLSH(n_signature=168,\n",
    "                                 n_input_dimension=25000,\n",
    "                                 b=6,\n",
    "                                 r=28,\n",
    "                                 threshold=0.8,\n",
    "                                 seed=42\n",
    "                                )\n",
    "lsh_cosine.fit(bow_subset)\n",
    "duplicates, n_candidates = lsh_cosine.find_candidates(dtype='sparse')\n",
    "# duplicates, n_candidates= LSH(bow_subset, b=6, r=28, d=0.2)\n",
    "print(\"(Runtime in seconds) LSH: \", time.time() - t1)"
   ]
  },
  {
   "cell_type": "code",
   "execution_count": 58,
   "metadata": {
    "ExecuteTime": {
     "end_time": "2021-07-04T11:36:46.616975Z",
     "start_time": "2021-07-04T11:36:46.610105Z"
    }
   },
   "outputs": [
    {
     "data": {
      "text/plain": [
       "{(1809, 13244, 1.0),\n",
       " (6600, 93310, 1.0),\n",
       " (17779, 72702, 0.9999999999999999),\n",
       " (32066, 71726, 1.0),\n",
       " (35163, 82597, 0.9999999999999999),\n",
       " (42795, 95179, 1.0),\n",
       " (47940, 65607, 1.0)}"
      ]
     },
     "execution_count": 58,
     "metadata": {},
     "output_type": "execute_result"
    }
   ],
   "source": [
    "duplicates"
   ]
  },
  {
   "cell_type": "code",
   "execution_count": 59,
   "metadata": {
    "ExecuteTime": {
     "end_time": "2021-07-04T11:36:47.209918Z",
     "start_time": "2021-07-04T11:36:47.207277Z"
    },
    "colab": {
     "autoexec": {
      "startup": false,
      "wait_interval": 0
     },
     "base_uri": "https://localhost:8080/",
     "height": 52
    },
    "colab_type": "code",
    "executionInfo": {
     "elapsed": 4187,
     "status": "ok",
     "timestamp": 1525005459121,
     "user": {
      "displayName": "Piotr Tatarczyk",
      "photoUrl": "https://lh3.googleusercontent.com/a/default-user=s128",
      "userId": "105851496253926425076"
     },
     "user_tz": -120
    },
    "id": "lMpeg03TtoGs",
    "outputId": "f71cecf2-4906-4fa8-e8bc-ee1ccb39a159"
   },
   "outputs": [],
   "source": [
    "\n",
    "\n",
    "# t1 = time.time()\n",
    "# duplicates_GPU, n_candidates_GPU= LSH_GPU(bow_subset, b=6, r=28, d=0.2)\n",
    "# print(\"(Runtime in seconds)  LSH_GPU: \",time.time() - t1)\n",
    "\n"
   ]
  },
  {
   "cell_type": "markdown",
   "metadata": {
    "colab_type": "text",
    "id": "iIwWMaD9ZEUn"
   },
   "source": [
    "We can see a significant increase in the speed of computation. Implementation not based on numpy, containing many for-loops, took approximately 20 minutes to compute. "
   ]
  },
  {
   "cell_type": "code",
   "execution_count": 60,
   "metadata": {
    "ExecuteTime": {
     "end_time": "2021-07-04T11:36:48.572224Z",
     "start_time": "2021-07-04T11:36:48.567248Z"
    },
    "colab": {
     "autoexec": {
      "startup": false,
      "wait_interval": 0
     },
     "base_uri": "https://localhost:8080/",
     "height": 52
    },
    "colab_type": "code",
    "executionInfo": {
     "elapsed": 575,
     "status": "ok",
     "timestamp": 1525005461798,
     "user": {
      "displayName": "Piotr Tatarczyk",
      "photoUrl": "https://lh3.googleusercontent.com/a/default-user=s128",
      "userId": "105851496253926425076"
     },
     "user_tz": -120
    },
    "id": "_KlGa8mujfjt",
    "outputId": "8d77ffed-1321-4cb0-86ab-7452e667c52f"
   },
   "outputs": [
    {
     "name": "stdout",
     "output_type": "stream",
     "text": [
      "We detected 759 candidates.\n"
     ]
    }
   ],
   "source": [
    "print('We detected {} candidates.'.format(n_candidates))\n",
    "# print('We detected {} candidates (GPU).'.format(n_candidates_GPU))"
   ]
  },
  {
   "cell_type": "markdown",
   "metadata": {
    "colab_type": "text",
    "id": "gspPhrtQjfj1"
   },
   "source": [
    "#### Show the duplicates we have found:"
   ]
  },
  {
   "cell_type": "code",
   "execution_count": 61,
   "metadata": {
    "ExecuteTime": {
     "end_time": "2021-07-04T11:36:49.413691Z",
     "start_time": "2021-07-04T11:36:49.405042Z"
    },
    "colab": {
     "autoexec": {
      "startup": false,
      "wait_interval": 0
     },
     "base_uri": "https://localhost:8080/",
     "height": 177
    },
    "colab_type": "code",
    "executionInfo": {
     "elapsed": 550,
     "status": "ok",
     "timestamp": 1525005464704,
     "user": {
      "displayName": "Piotr Tatarczyk",
      "photoUrl": "https://lh3.googleusercontent.com/a/default-user=s128",
      "userId": "105851496253926425076"
     },
     "user_tz": -120
    },
    "id": "jedcsXV_jfj3",
    "outputId": "e107f3fd-eb04-4f52-9b56-1a4414fb9568"
   },
   "outputs": [
    {
     "name": "stdout",
     "output_type": "stream",
     "text": [
      "Duplicates:\n"
     ]
    },
    {
     "data": {
      "text/plain": [
       "{(1809, 13244, 1.0),\n",
       " (6600, 93310, 1.0),\n",
       " (17779, 72702, 0.9999999999999999),\n",
       " (32066, 71726, 1.0),\n",
       " (35163, 82597, 0.9999999999999999),\n",
       " (42795, 95179, 1.0),\n",
       " (47940, 65607, 1.0)}"
      ]
     },
     "execution_count": 61,
     "metadata": {},
     "output_type": "execute_result"
    }
   ],
   "source": [
    "print(\"Duplicates:\")\n",
    "duplicates"
   ]
  },
  {
   "cell_type": "code",
   "execution_count": 62,
   "metadata": {
    "ExecuteTime": {
     "end_time": "2021-07-04T11:36:49.869284Z",
     "start_time": "2021-07-04T11:36:49.866622Z"
    },
    "colab": {
     "autoexec": {
      "startup": false,
      "wait_interval": 0
     },
     "base_uri": "https://localhost:8080/",
     "height": 106
    },
    "colab_type": "code",
    "executionInfo": {
     "elapsed": 535,
     "status": "ok",
     "timestamp": 1525005467131,
     "user": {
      "displayName": "Piotr Tatarczyk",
      "photoUrl": "https://lh3.googleusercontent.com/a/default-user=s128",
      "userId": "105851496253926425076"
     },
     "user_tz": -120
    },
    "id": "1EXjVTMn19YC",
    "outputId": "8515bf29-1e5a-4a1b-899f-d5509ace76c8"
   },
   "outputs": [],
   "source": [
    "# print(\"Duplicates_GPU: \")\n",
    "# duplicates_GPU"
   ]
  },
  {
   "cell_type": "markdown",
   "metadata": {
    "colab_type": "text",
    "id": "p1YVkNGHjfkI"
   },
   "source": [
    "#### Retrieve original data for the detected reviews:"
   ]
  },
  {
   "cell_type": "code",
   "execution_count": 63,
   "metadata": {
    "ExecuteTime": {
     "end_time": "2021-07-04T11:36:50.543938Z",
     "start_time": "2021-07-04T11:36:50.538630Z"
    },
    "colab": {
     "autoexec": {
      "startup": false,
      "wait_interval": 0
     }
    },
    "colab_type": "code",
    "id": "c-IY_3TLjfkL"
   },
   "outputs": [],
   "source": [
    "similar_review_pairs = []\n",
    "for ix1, ix2, sim in duplicates:\n",
    "    rev1 = reviews[ix1]\n",
    "    rev2 = reviews[ix2]\n",
    "    similar_review_pairs.append((rev1, rev2, sim))"
   ]
  },
  {
   "cell_type": "markdown",
   "metadata": {
    "colab_type": "text",
    "id": "8g1Q6IN8jfkU"
   },
   "source": [
    "#### Show the detected pairs with cosine distance > 0 (not exact duplicates), and highlight the words not present in the used bag-of-words."
   ]
  },
  {
   "cell_type": "code",
   "execution_count": 64,
   "metadata": {
    "ExecuteTime": {
     "end_time": "2021-07-04T11:36:51.294770Z",
     "start_time": "2021-07-04T11:36:51.285667Z"
    },
    "colab": {
     "autoexec": {
      "startup": false,
      "wait_interval": 0
     }
    },
    "colab_type": "code",
    "id": "pSumgQRQjfkV"
   },
   "outputs": [],
   "source": [
    "pattern = re.compile('(\\S+|\\n)')\n",
    "pattern_punctuation = re.compile('^\\W+|\\W+$')\n",
    "\n",
    "def highlight_vocabulary(text, vocabulary):\n",
    "    split = re.findall(r\"[\\w']+\", text)\n",
    "    in_vocabulary = [pattern.sub(lambda m: pattern_punctuation.sub('', m.group()), str.lower(x)) in words for x in split]\n",
    "    highlighted_words = [\"**{}**\".format(x) if in_vocabulary[ix] else x for ix,x in enumerate(split) ]\n",
    "    highlighted_text = \" \".join(highlighted_words)\n",
    "    return highlighted_text\n",
    "\n",
    "def printmd(string):\n",
    "    display(Markdown(string))"
   ]
  },
  {
   "cell_type": "code",
   "execution_count": 65,
   "metadata": {
    "ExecuteTime": {
     "end_time": "2021-07-04T11:36:52.089009Z",
     "start_time": "2021-07-04T11:36:51.717048Z"
    },
    "colab": {
     "autoexec": {
      "startup": false,
      "wait_interval": 0
     },
     "base_uri": "https://localhost:8080/",
     "height": 230
    },
    "colab_type": "code",
    "executionInfo": {
     "elapsed": 553,
     "status": "ok",
     "timestamp": 1525006700607,
     "user": {
      "displayName": "Piotr Tatarczyk",
      "photoUrl": "https://lh3.googleusercontent.com/a/default-user=s128",
      "userId": "105851496253926425076"
     },
     "user_tz": -120
    },
    "id": "V5gVfmjUjfka",
    "outputId": "a36fe2a6-d06c-4563-b84f-0929d25c992e"
   },
   "outputs": [
    {
     "name": "stdout",
     "output_type": "stream",
     "text": [
      "I **came** here for a **friend** and **I's** **birthday** from **Atlanta** We were **treated** **horribly** Our **entire** **Las** **Vegas** **experience** has been **phenomenal** until this I am a **lifestyle** **blogger** and this will **def** be on my **list** of **things** NOT to do The **club** is **beautiful** I **wish** the **security** **would** have been as **great** **One** of the **guards** **actually** **put** his **hands** on **one** of my **friends** I was **yelled** at **like** I was a **man** for not **understanding** which **way** to **go** **Security** **guard** **got** **directly** in my **face** to the **point** he **spit** on me I have **never** had this **bad** of an **experience** in ANY **club** in any **city** I **suppose** they **could** **care** **less** about **people** having a **great** **experience** **since** they **bring** in so **many** **patrons** The **guest** **celebrity** **host** Lebron **James** **I'm** **sure** **would** have been **floored** if he **knew** how **badly** **people** were **treated** We should have **listened** to **locals** when they **told** **us** not to **come** here **Better** **luck** **tonight** Naeemah **Jade**\n",
      "\n",
      "vs.\n",
      "\n",
      "I **came** here for a **friend** and **I's** **birthday** from **Atlanta** We were **treated** **horribly** Our **entire** **Las** **Vegas** **experience** has been **phenomenal** until this I am a **lifestyle** **blogger** and this will **def** be on my **list** of **things** NOT to do The **club** is **beautiful** I **wish** the **security** **would** have been as **great** **One** of the **guards** **actually** **put** his **hands** on **one** of my **friends** I was **yelled** at **like** I was a **man** for not **understanding** which **way** to **go** **Security** **guard** **got** **directly** in my **face** to the **point** he **spit** on me I have **never** had this **bad** of an **experience** in ANY **club** in any **city** I **suppose** they **could** **care** **less** about **people** having a **great** **experience** **since** they **bring** in so **many** **patrons** The **guest** **celebrity** **host** Lebron **James** **I'm** **sure** **would** have been **floored** if he **knew** how **badly** **people** were **treated** We should have **listened** to **locals** when they **told** **us** not to **come** here **Better** **luck** **tonight** Naeemah **Jade**\n",
      "===\n",
      "Same business: True\n",
      "Same user: False\n",
      "Cosine distance 1.0000\n",
      "\n",
      "#######\n",
      "\n",
      "**Never** **get** **enough** of it **Always** have **shrimps** **hot** **N** **juicy** or **garlic** **butter** **5** **5** **Sweet** **potato** **fries** is **delicious** as **well** **5** **5** My **friends** **always** **add** a **corn** I **ordered** **lobster** once **4** **5** **Lol** I don't **know** how to **eat** it They **said** they can **crack** it for you **Crabs** are **good** my **friends'** **favorite** **5** **5** **Sausages** are **optional** I had them **sometimes** **3** **5** I have been both **places** My **friends** **like** it on **Decatur** **4** **5** but I **kinda** **like** it at **Valley** **View** because it is **newer** **even** **though** there is **wired** **smells** and **long** **queue** **3** **5**\n",
      "\n",
      "vs.\n",
      "\n",
      "**Never** **get** **enough** of it **Always** have **shrimps** **hot** **N** **juicy** or **garlic** **butter** **5** **5** **Sweet** **potato** **fries** is **delicious** as **well** **5** **5** My **friends** **always** **add** a **corn** I **ordered** **lobster** once **4** **5** **Lol** I don't **know** how to **eat** it They **said** they can **crack** it for you **Crabs** are **good** my **friends'** **favorite** **5** **5** **Sausages** are **optional** I had them **sometimes** **3** **5** I have been both **places** My **friends** **like** it on **Decatur** **4** **5** but I **kinda** **like** it at **Valley** **View** because it is **newer** **even** **though** there is **wired** **smells** and **long** **queue** **3** **5**\n",
      "===\n",
      "Same business: False\n",
      "Same user: True\n",
      "Cosine distance 1.0000\n",
      "\n",
      "#######\n",
      "\n",
      "We **come** here a **lot** and we **really** **enjoy** our **time** here The **food** is **always** **great** and we **love** the **atmosphere** My **wife** had a **steak** and I had the **ribeye** **steak** We **started** with the **ahi** and the **bloomin** **onion** We **loved** the **food** and had **great** **service** from Jessa She's been our **server** before and **always** is **friendly** **prompt** and doesn't **make** **mistakes** We will **definitely** be **back** for more **Thank** you\n",
      "\n",
      "vs.\n",
      "\n",
      "We **come** here a **lot** and we **really** **enjoy** our **time** here The **food** is **always** **great** and we **love** the **atmosphere** My **wife** had a **steak** and I had the **ribeye** **steak** We **started** with the **ahi** and the **bloomin** **onion** We **loved** the **food** and had **great** **service** from Jessa She's been our **server** before and **always** is **friendly** **prompt** and doesn't **make** **mistakes** We will **definitely** be **back** for more **Thank** you\n",
      "===\n",
      "Same business: False\n",
      "Same user: True\n",
      "Cosine distance 1.0000\n",
      "\n",
      "#######\n",
      "\n",
      "No more **Tuesday** **special** Will **never** **come** **back** again **Chicken** are very **small** **compared** to other **places**\n",
      "\n",
      "vs.\n",
      "\n",
      "No more **Tuesday** **special** Will **never** **come** **back** again **Chicken** are very **small** **compared** to other **places**\n",
      "===\n",
      "Same business: False\n",
      "Same user: True\n",
      "Cosine distance 1.0000\n",
      "\n",
      "#######\n",
      "\n",
      "The only **reason** **I'm** **giving** this **place** **2** **stars** was because my **food** was **good** and the **music** was **nice** Other than that the **people** **running** this **place** are **completely** unqualified and have no **business** in the **service** **industry** I had a **9** **30pm** **reservation** **last** **week** **Needless** to **say** this was the **worst** **restaurant** **experience** **I've** **ever** had **I've** been **dining** out in **Vegas** for over **10** **years** and have **always** had **exceptional** **meals** and **experiences** These were the most **pretentious** **obnoxious** **rude** and **unprofessional** **people** I don't **mind** **waiting** **15** **minutes** for a **reservation** but we didn't **sit** down until **10** 45pm No **one** at the **host** **desk** **apologized** **offered** **us** a **round** of **drinks** **nothing** They just **ignored** **us** When we **finally** **sat** down the **woman** who **sat** **us** didn't **even** **apologize** We had a very **nice** **waiter** who was **apologetic** **even** **though** it wasn't his **fault** He **got** the **manager** for **us** and some **guy** **named** **Josh** **came** over **apologized** and **offered** to **take** **care** of **us** during our **dining** **experience** That **never** **happened** So **fake** **Folks** if you **want** to **eat** here **go** **early** **expect** to **wait** and **expect** the **hosts** and **managers** to be **inattentive** and **rude** I **think** they are there to **look** **like** they are in **control** with their headsets and **designer** **suits** and **skimpy** **outfits** They are **pretty** **much** **useless** If you **need** to **eat** in the **Cosmopolitan** **Hotel** **go** to **Blue** **Ribbon** **Sushi** these **guys** **know** what they are doing **service** is **great** and the **food** is **crazy** **good** If you **really** **want** an **STK** **experience** **go** to the **STK** in **NY** at **least** they **know** what they are doing there\n",
      "\n",
      "vs.\n",
      "\n",
      "The only **reason** **I'm** **giving** this **place** **2** **stars** was because my **food** was **good** and the **music** was **nice** Other than that the **people** **running** this **place** are **completely** unqualified and have no **business** in the **service** **industry** I had a **9** **30pm** **reservation** **last** **week** **Needless** to **say** this was the **worst** **restaurant** **experience** **I've** **ever** had **I've** been **dining** out in **Vegas** for over **10** **years** and have **always** had **exceptional** **meals** and **experiences** These were the most **pretentious** **obnoxious** **rude** and **unprofessional** **people** I don't **mind** **waiting** **15** **minutes** for a **reservation** but we didn't **sit** down until **10** 45pm No **one** at the **host** **desk** **apologized** **offered** **us** a **round** of **drinks** **nothing** They just **ignored** **us** When we **finally** **sat** down the **woman** who **sat** **us** didn't **even** **apologize** We had a very **nice** **waiter** who was **apologetic** **even** **though** it wasn't his **fault** He **got** the **manager** for **us** and some **guy** **named** **Josh** **came** over **apologized** and **offered** to **take** **care** of **us** during our **dining** **experience** That **never** **happened** So **fake** **Folks** if you **want** to **eat** here **go** **early** **expect** to **wait** and **expect** the **hosts** and **managers** to be **inattentive** and **rude** I **think** they are there to **look** **like** they are in **control** with their headsets and **designer** **suits** and **skimpy** **outfits** They are **pretty** **much** **useless** If you **need** to **eat** in the **Cosmopolitan** **Hotel** **go** to **Blue** **Ribbon** **Sushi** these **guys** **know** what they are doing **service** is **great** and the **food** is **crazy** **good** If you **really** **want** an **STK** **experience** **go** to the **STK** in **NY** at **least** they **know** what they are doing there\n",
      "===\n",
      "Same business: True\n",
      "Same user: False\n",
      "Cosine distance 1.0000\n",
      "\n",
      "#######\n",
      "\n",
      "This **review** is only for their **catering** **services** **I've** been **using** them **pretty** **frequently** for **special** **events** Their **food** is **always** on **time** Their **staff** **always** **setup** the **food** in a very **nice** **manner** All **utensils** **napkins** **plates** **etc** are **included** in the **pricing** And **many** **people** **really** **rave** about their **baked** zits which is **always** a **staple** in my **catering** **orders** I will **continue** to **utilize** their **catering** **services** **Give** these **guys** a **shot** if **ur** having a **private** **event** or **need** **catering** for your **next** **work** **function** **Quality** **food** and **service** at a **reasonable** **price**\n",
      "\n",
      "vs.\n",
      "\n",
      "This **review** is only for their **catering** **services** **I've** been **using** them **pretty** **frequently** for **special** **events** Their **food** is **always** on **time** Their **staff** **always** **setup** the **food** in a very **nice** **manner** All **utensils** **napkins** **plates** **etc** are **included** in the **pricing** And **many** **people** **really** **rave** about their **baked** zits which is **always** a **staple** in my **catering** **orders** I will **continue** to **utilize** their **catering** **services** **Give** these **guys** a **shot** if **ur** having a **private** **event** or **need** **catering** for your **next** **work** **function** **Quality** **food** and **service** at a **reasonable** **price**\n",
      "===\n",
      "Same business: False\n",
      "Same user: True\n",
      "Cosine distance 1.0000\n",
      "\n",
      "#######\n",
      "\n",
      "**Great** **pizza** **Crust** is **perfect** Just **thin** **enough** to have a **crispy** **finish** but **still** **soft** on **top**\n",
      "\n",
      "vs.\n",
      "\n",
      "**Great** **pizza** **Crust** is **perfect** Just **thin** **enough** to have a **crispy** **finish** but **still** **soft** on **top**\n",
      "===\n",
      "Same business: False\n",
      "Same user: True\n",
      "Cosine distance 1.0000\n",
      "\n",
      "#######\n",
      "\n"
     ]
    }
   ],
   "source": [
    "for r1, r2, sim in similar_review_pairs:\n",
    "    if not np.isclose(sim, 0.0):\n",
    "        print(highlight_vocabulary(r1['text'], words))\n",
    "        print(\"\")\n",
    "        print(\"vs.\")\n",
    "        print(\"\")\n",
    "        print(highlight_vocabulary(r2['text'], words))\n",
    "        print(\"===\")\n",
    "        print(\"Same business: {}\".format(r1['business_id'] == r2['business_id']))\n",
    "        print(\"Same user: {}\".format(r1['user_id'] == r2['user_id']))\n",
    "        print(\"Cosine distance {:.4f}\".format(sim))\n",
    "        print(\"\")    \n",
    "        print(\"#######\")\n",
    "        print(\"\")"
   ]
  },
  {
   "cell_type": "code",
   "execution_count": 66,
   "metadata": {
    "ExecuteTime": {
     "end_time": "2021-07-04T11:36:52.256083Z",
     "start_time": "2021-07-04T11:36:52.170323Z"
    }
   },
   "outputs": [
    {
     "data": {
      "text/plain": [
       "[({'review_id': 'z8ogqdkO0BImqllguYvDWA',\n",
       "   'user_id': 'RRRYtfu-ng9yqq5mNlH2QQ',\n",
       "   'business_id': 'ECOkEVUodMLUxvI0PMI4gQ',\n",
       "   'stars': 1,\n",
       "   'text': \"I came here for a friend and I's birthday from Atlanta.... We were treated horribly. Our entire Las Vegas experience has been phenomenal until this. I am a lifestyle blogger and this will def be on my list of things NOT to do. The club is beautiful I wish the security would have been as great. One of the guards actually put his hands on one of my friends..... I was yelled at like I was a man  for not understanding which way to go..... Security guard got directly in my face to the point he spit on me. \\n\\nI have never had this bad of an experience in ANY club in any city. I suppose they could care less about people having a great experience since they bring in so many patrons. The guest celebrity host Lebron James, I'm sure would have been floored if he knew how badly people were treated. \\n\\nWe should have listened to locals  when they told us not to come here. Better luck tonight!\\n\\nNaeemah Jade\",\n",
       "   'biz': {'name': 'Tao Nightclub',\n",
       "    'city': 'Las Vegas',\n",
       "    'categories': ['Bars',\n",
       "     'Restaurants',\n",
       "     'Asian Fusion',\n",
       "     'Dance Clubs',\n",
       "     'Music Venues',\n",
       "     'Lounges',\n",
       "     'Arts & Entertainment',\n",
       "     'Nightlife']}},\n",
       "  {'review_id': 'YkRSFZ6bQyYLzYbBGk4HKA',\n",
       "   'user_id': 'Ut1RxqprUp88oKHcmv-X3w',\n",
       "   'business_id': 'ECOkEVUodMLUxvI0PMI4gQ',\n",
       "   'stars': 1,\n",
       "   'text': \"I came here for a friend and I's birthday from Atlanta.... We were treated horribly. Our entire Las Vegas experience has been phenomenal until this. I am a lifestyle blogger and this will def be on my list of things NOT to do. The club is beautiful I wish the security would have been as great. One of the guards actually put his hands on one of my friends..... I was yelled at like I was a man  for not understanding which way to go..... Security guard got directly in my face to the point he spit on me. \\n\\nI have never had this bad of an experience in ANY club in any city. I suppose they could care less about people having a great experience since they bring in so many patrons. The guest celebrity host Lebron James, I'm sure would have been floored if he knew how badly people were treated. \\n\\nWe should have listened to locals  when they told us not to come here. Better luck tonight!\\n\\nNaeemah Jade\",\n",
       "   'biz': {'name': 'Tao Nightclub',\n",
       "    'city': 'Las Vegas',\n",
       "    'categories': ['Bars',\n",
       "     'Restaurants',\n",
       "     'Asian Fusion',\n",
       "     'Dance Clubs',\n",
       "     'Music Venues',\n",
       "     'Lounges',\n",
       "     'Arts & Entertainment',\n",
       "     'Nightlife']}},\n",
       "  1.0),\n",
       " ({'review_id': 'kQilCcA8ON09lXZrZYxnWw',\n",
       "   'user_id': '7MasDCpgzRY5avcem41MGQ',\n",
       "   'business_id': 'p3YqOYELqXtLyHz9T49p_w',\n",
       "   'stars': 5,\n",
       "   'text': \"Never get enough of it! Always have shrimps hot N juicy or garlic butter. 5/5! Sweet potato fries is delicious as well. 5/5! My friends always add a corn. I ordered lobster once. 4/5! Lol I don't know how to eat it!! They said they can crack it for you. Crabs are good, my friends' favorite! 5/5! Sausages are optional,  I had them sometimes. 3/5! I have been both places. My friends like it on Decatur 4/5!,  but I kinda like it at Valley View because it is newer, even though there is wired smells and long queue! 3/5!\",\n",
       "   'biz': {'name': 'Hot N Juicy Crawfish',\n",
       "    'city': 'Las Vegas',\n",
       "    'categories': ['Restaurants', 'Seafood', 'Cajun/Creole']}},\n",
       "  {'review_id': 'oNvWy3A5UH1qmjyvjpVhrw',\n",
       "   'user_id': '7MasDCpgzRY5avcem41MGQ',\n",
       "   'business_id': 'UNI1agsPX2k3eJSJVB91nw',\n",
       "   'stars': 5,\n",
       "   'text': \"Never get enough of it! Always have shrimps hot N juicy or garlic butter. 5/5! Sweet potato fries is delicious as well. 5/5! My friends always add a corn. I ordered lobster once. 4/5! Lol I don't know how to eat it!! They said they can crack it for you. Crabs are good, my friends' favorite! 5/5! Sausages are optional,  I had them sometimes. 3/5! I have been both places. My friends like it on Decatur 4/5!,  but I kinda like it at Valley View because it is newer, even though there is wired smells and long queue! 3/5!\",\n",
       "   'biz': {'name': 'Hot N Juicy Crawfish',\n",
       "    'city': 'Las Vegas',\n",
       "    'categories': ['American (Traditional)',\n",
       "     'Restaurants',\n",
       "     'Cajun/Creole',\n",
       "     'Seafood']}},\n",
       "  0.9999999999999999),\n",
       " ({'review_id': 'TgMY6sqXgFrLer_qvaZoCw',\n",
       "   'user_id': 'keBv05MsMFBd0Hu98vXThQ',\n",
       "   'business_id': '8Yz1eFsaUy-ny3B6YZDOrg',\n",
       "   'stars': 5,\n",
       "   'text': \"We come here a lot and we really enjoy our time here.  The food is always great and we love the atmosphere.  My wife had a steak and I had the ribeye steak.  We started with the ahi and the bloomin onion.  We loved the food and had great service from Jessa.  She's been our server before and always is friendly prompt and doesn't make mistakes.  We will definitely be back for more.  \\nThank you\",\n",
       "   'biz': {'name': 'Outback Steakhouse',\n",
       "    'city': 'Las Vegas',\n",
       "    'categories': ['Restaurants', 'Steakhouses']}},\n",
       "  {'review_id': '31Eip7GoX9Tf02LDCLS59A',\n",
       "   'user_id': 'keBv05MsMFBd0Hu98vXThQ',\n",
       "   'business_id': '7wMCJ9NqL9eBEX4WdJWuIA',\n",
       "   'stars': 5,\n",
       "   'text': \"We come here a lot and we really enjoy our time here.  The food is always great and we love the atmosphere.  My wife had a steak and I had the ribeye steak.  We started with the ahi and the bloomin onion.  We loved the food and had great service from Jessa.  She's been our server before and always is friendly prompt and doesn't make mistakes.  We will definitely be back for more.  \\nThank you\",\n",
       "   'biz': {'name': 'Outback Steakhouse',\n",
       "    'city': 'Las Vegas',\n",
       "    'categories': ['Steakhouses', 'Restaurants']}},\n",
       "  1.0),\n",
       " ({'review_id': 'GcyUlmxaDjg0upcpPI8j3Q',\n",
       "   'user_id': 'Dg-zyDhsVxQbEbDW3lP9gw',\n",
       "   'business_id': '86xm0Q8iX5ZjODWMkvwnxA',\n",
       "   'stars': 1,\n",
       "   'text': 'No more Tuesday special. Will never come back again. Chicken are very small compared to other places.',\n",
       "   'biz': {'name': 'Popeyes Louisiana Kitchen',\n",
       "    'city': 'Las Vegas',\n",
       "    'categories': ['American (Traditional)',\n",
       "     'Chicken Wings',\n",
       "     'Southern',\n",
       "     'Chicken Shop',\n",
       "     'Restaurants',\n",
       "     'Fast Food']}},\n",
       "  {'review_id': 'zthYl7SHILmckx2cf9T3mQ',\n",
       "   'user_id': 'Dg-zyDhsVxQbEbDW3lP9gw',\n",
       "   'business_id': 'f-4N8MXGy_ifyGtfZrh6SQ',\n",
       "   'stars': 1,\n",
       "   'text': 'No more Tuesday special. Will never come back again. Chicken are very small compared to other places.',\n",
       "   'biz': {'name': 'Popeyes Louisiana Kitchen',\n",
       "    'city': 'Las Vegas',\n",
       "    'categories': ['Chicken Wings', 'Fast Food', 'Restaurants']}},\n",
       "  1.0),\n",
       " ({'review_id': '8f8RqTJ3RtNJ4pZXPuxWKg',\n",
       "   'user_id': 'bC2Tp6NZf8gvcGJdlk41pg',\n",
       "   'business_id': 'bpRo8L8dkhgbJhdIKa9mwA',\n",
       "   'stars': 2,\n",
       "   'text': 'The only reason I\\'m giving this place 2 stars was because my food was good and the music was nice.  Other than that, the people running this place are completely unqualified and have no business in the service industry.\\n\\nI had a 9:30pm reservation last week.  Needless to say, this was the worst restaurant experience I\\'ve ever had.  I\\'ve been dining out in Vegas for over 10 years and have always had exceptional meals and experiences.  These were the most pretentious, obnoxious, rude and unprofessional people.  I don\\'t mind waiting 15 minutes for a reservation, but we didn\\'t sit down until 10:45pm.  No one at the host desk apologized, offered us a round of drinks, nothing.  They just ignored us. When we finally sat down, the woman who sat us didn\\'t even apologize.  We had a very nice waiter who was apologetic even though it wasn\\'t his fault.  He got the \"manager\" for us and some guy named Josh came over, apologized and offered to \"take care of us\" during our dining experience.  That never happened.  So fake!\\n\\nFolks, if you want to eat here, go early, expect to wait and expect the hosts and managers to be inattentive and rude.  I think they are there to look like they are in control, with their headsets and designer suits and skimpy outfits.  They are pretty much useless.\\n\\nIf you need to eat in the Cosmopolitan Hotel, go to Blue Ribbon Sushi, these guys know what they are doing, service is great and the food is crazy good!\\n\\nIf you really want an STK experience, go to the STK in NY, at least they know what they are doing there.',\n",
       "   'biz': {'name': 'STK Las Vegas',\n",
       "    'city': 'Las Vegas',\n",
       "    'categories': ['Nightlife',\n",
       "     'Bars',\n",
       "     'Steakhouses',\n",
       "     'American (New)',\n",
       "     'Cocktail Bars',\n",
       "     'Restaurants']}},\n",
       "  {'review_id': 'zOP7jnsOIuqCQLvVF1bxFg',\n",
       "   'user_id': 'PyYiy7_2MSg1W3sFEZU_Ww',\n",
       "   'business_id': 'bpRo8L8dkhgbJhdIKa9mwA',\n",
       "   'stars': 1,\n",
       "   'text': 'The only reason I\\'m giving this place 2 stars was because my food was good and the music was nice.  Other than that, the people running this place are completely unqualified and have no business in the service industry.\\n\\nI had a 9:30pm reservation last week.  Needless to say, this was the worst restaurant experience I\\'ve ever had.  I\\'ve been dining out in Vegas for over 10 years and have always had exceptional meals and experiences.  These were the most pretentious, obnoxious, rude and unprofessional people.  I don\\'t mind waiting 15 minutes for a reservation, but we didn\\'t sit down until 10:45pm.  No one at the host desk apologized, offered us a round of drinks, nothing.  They just ignored us. When we finally sat down, the woman who sat us didn\\'t even apologize.  We had a very nice waiter who was apologetic even though it wasn\\'t his fault.  He got the \"manager\" for us and some guy named Josh came over, apologized and offered to \"take care of us\" during our dining experience.  That never happened.  So fake!\\n\\nFolks, if you want to eat here, go early, expect to wait and expect the hosts and managers to be inattentive and rude.  I think they are there to look like they are in control, with their headsets and designer suits and skimpy outfits.  They are pretty much useless.\\n\\nIf you need to eat in the Cosmopolitan Hotel, go to Blue Ribbon Sushi, these guys know what they are doing, service is great and the food is crazy good!\\n\\nIf you really want an STK experience, go to the STK in NY, at least they know what they are doing there.',\n",
       "   'biz': {'name': 'STK Las Vegas',\n",
       "    'city': 'Las Vegas',\n",
       "    'categories': ['Nightlife',\n",
       "     'Bars',\n",
       "     'Steakhouses',\n",
       "     'American (New)',\n",
       "     'Cocktail Bars',\n",
       "     'Restaurants']}},\n",
       "  0.9999999999999999),\n",
       " ({'review_id': '-s5LBEqePSwZwoL7ei2jaw',\n",
       "   'user_id': 'tuiR8GCh5eX-Z8twljeueg',\n",
       "   'business_id': 'TeHB4-F_5Mwg1VE2Uzu0Ag',\n",
       "   'stars': 4,\n",
       "   'text': \"This review is only for their catering services. I've been using them pretty frequently for special events. Their food is always on time. Their staff always setup the food in a very nice manner. All utensils, napkins, plates, etc are included in the pricing. And many people really rave about their baked zits which is always a staple in my catering orders. I will continue to utilize their catering services. Give these guys a shot if ur having a private event or need catering for your next work function. Quality food and service at a reasonable price.\",\n",
       "   'biz': {'name': 'Buca Di Beppo',\n",
       "    'city': 'Las Vegas',\n",
       "    'categories': ['Event Planning & Services',\n",
       "     'Food',\n",
       "     'Caterers',\n",
       "     'Pizza',\n",
       "     'Italian',\n",
       "     'Restaurants']}},\n",
       "  {'review_id': 'PFyP0B2Q60vWgu4YWHC1Zw',\n",
       "   'user_id': 'tuiR8GCh5eX-Z8twljeueg',\n",
       "   'business_id': 'lAR6Lj6-zBxQNqflZt0zTQ',\n",
       "   'stars': 4,\n",
       "   'text': \"This review is only for their catering services. I've been using them pretty frequently for special events. Their food is always on time. Their staff always setup the food in a very nice manner. All utensils, napkins, plates, etc are included in the pricing. And many people really rave about their baked zits which is always a staple in my catering orders. I will continue to utilize their catering services. Give these guys a shot if ur having a private event or need catering for your next work function. Quality food and service at a reasonable price.\",\n",
       "   'biz': {'name': 'Buca di Beppo',\n",
       "    'city': 'Las Vegas',\n",
       "    'categories': ['Event Planning & Services',\n",
       "     'Italian',\n",
       "     'Pizza',\n",
       "     'Food',\n",
       "     'Restaurants',\n",
       "     'Caterers']}},\n",
       "  1.0),\n",
       " ({'review_id': 'YKeBcAnGF8W-QmVdkBQ8gw',\n",
       "   'user_id': '6U2fiyYQkplw6crO5klO9A',\n",
       "   'business_id': 'F0lI9okn4pzmN_iq5UqF7w',\n",
       "   'stars': 5,\n",
       "   'text': 'Great pizza. Crust is perfect. Just thin enough to have a crispy finish, but still soft on top.',\n",
       "   'biz': {'name': 'Pieology Pizzeria',\n",
       "    'city': 'Las Vegas',\n",
       "    'categories': ['Restaurants', 'Pizza', 'Gluten-Free']}},\n",
       "  {'review_id': 'gRZmuPu9Rj4ZDVcA6GyBjQ',\n",
       "   'user_id': '6U2fiyYQkplw6crO5klO9A',\n",
       "   'business_id': 'Gdv3qhsDeQzZ2Ag-Tzq6vA',\n",
       "   'stars': 5,\n",
       "   'text': 'Great pizza. Crust is perfect. Just thin enough to have a crispy finish, but still soft on top.',\n",
       "   'biz': {'name': \"Rocco's NY Pizzeria\",\n",
       "    'city': 'Las Vegas',\n",
       "    'categories': ['Pizza', 'Restaurants']}},\n",
       "  1.0)]"
      ]
     },
     "execution_count": 66,
     "metadata": {},
     "output_type": "execute_result"
    }
   ],
   "source": [
    "similar_review_pairs"
   ]
  },
  {
   "cell_type": "markdown",
   "metadata": {
    "colab_type": "text",
    "id": "u1MWJmSXjfki"
   },
   "source": [
    "## Intractability of the pairwise naive cosine distance computation between all reviews\n",
    "\n",
    "We can optionally verify that a naive nearest neighbour search is infeasible given the dataset of this size. **Warning: running this code may freeze your machine!**\n"
   ]
  },
  {
   "cell_type": "code",
   "execution_count": 67,
   "metadata": {
    "ExecuteTime": {
     "end_time": "2021-07-04T11:36:52.972645Z",
     "start_time": "2021-07-04T11:36:52.969144Z"
    },
    "colab": {
     "autoexec": {
      "startup": false,
      "wait_interval": 0
     }
    },
    "colab_type": "code",
    "id": "Xc1Oz7zrjfkl"
   },
   "outputs": [],
   "source": [
    "# from sklearn.metrics.pairwise import pairwise_distances\n",
    "# distances = pairwise_distances(bow_subset, metric='cosine')"
   ]
  },
  {
   "cell_type": "markdown",
   "metadata": {
    "colab_type": "text",
    "id": "OXUNSB-9jfks"
   },
   "source": [
    "## Runtime comparison\n",
    "To compare runtimes, a naive for-loop implementation is provided. It helps with the memory issues and takes $O(N^2)$ time.\n",
    "\n",
    "<b>Parameters</b>:<br/>\n",
    "\n",
    "<i>X</i> :  sp.spmatrix, shape [N, K] (Sparse data matrix)<br/>\n",
    "<i>d</i> :  float (Distance treshold for reporting duplicates) <br/>\n",
    "\n",
    "\n",
    "<b>Return</b>: <br/> \n",
    "<i>duplicates</i> :  {(ID1, ID2, d_{12}), ..., (IDX, IDY, d_{xy})}. A set of tuples containing: (ID of the 1. review), (ID of the 2. review), (The cosine distance between them)<br/>"
   ]
  },
  {
   "cell_type": "code",
   "execution_count": 68,
   "metadata": {
    "ExecuteTime": {
     "end_time": "2021-07-04T11:36:53.714416Z",
     "start_time": "2021-07-04T11:36:53.707409Z"
    },
    "colab": {
     "autoexec": {
      "startup": false,
      "wait_interval": 0
     }
    },
    "colab_type": "code",
    "id": "yOBih1T_jfku"
   },
   "outputs": [],
   "source": [
    "def naive_duplicates(X, d = 0.2):\n",
    "\n",
    "    N = X.shape[0]\n",
    "    duplicates = set()\n",
    "    for i in range(N):\n",
    "        for j in range(N):\n",
    "            d_ij = cosine_distance(X, i, j)\n",
    "            if d_ij < d and i != j:\n",
    "                duplicates.add((i, j, d_ij))\n",
    "                \n",
    "    return duplicates"
   ]
  },
  {
   "cell_type": "code",
   "execution_count": 71,
   "metadata": {
    "ExecuteTime": {
     "end_time": "2021-07-04T11:37:18.050072Z",
     "start_time": "2021-07-04T11:37:18.041759Z"
    },
    "colab": {
     "autoexec": {
      "startup": false,
      "wait_interval": 0
     }
    },
    "colab_type": "code",
    "id": "R-QtqAXPjfk7"
   },
   "outputs": [],
   "source": [
    "def runtime_comparison():\n",
    "\n",
    "    trace = []\n",
    "    for n in np.arange(25, 251, 25):\n",
    "        print('Running comparison for {} reviews.'.format(n))\n",
    "        t = time.time()\n",
    "        LSH(bow_subset[:n], b=6, r=28, d=0.2)\n",
    "        t_lsh = time.time() - t\n",
    "        t = time.time()\n",
    "        naive_duplicates(bow_subset[:n], d=0.2)\n",
    "        t_naive = time.time() - t\n",
    "        \n",
    "        trace.append((n, t_lsh, t_naive))\n",
    "        \n",
    "    return trace  "
   ]
  },
  {
   "cell_type": "code",
   "execution_count": 72,
   "metadata": {
    "ExecuteTime": {
     "end_time": "2021-07-04T11:40:58.777612Z",
     "start_time": "2021-07-04T11:37:18.619072Z"
    },
    "colab": {
     "autoexec": {
      "startup": false,
      "wait_interval": 0
     }
    },
    "colab_type": "code",
    "id": "M1av-RCEjflC"
   },
   "outputs": [
    {
     "name": "stdout",
     "output_type": "stream",
     "text": [
      "Running comparison for 25 reviews.\n",
      "Running comparison for 50 reviews.\n",
      "Running comparison for 75 reviews.\n",
      "Running comparison for 100 reviews.\n",
      "Running comparison for 125 reviews.\n",
      "Running comparison for 150 reviews.\n",
      "Running comparison for 175 reviews.\n",
      "Running comparison for 200 reviews.\n",
      "Running comparison for 225 reviews.\n",
      "Running comparison for 250 reviews.\n"
     ]
    }
   ],
   "source": [
    "trace = runtime_comparison()"
   ]
  },
  {
   "cell_type": "markdown",
   "metadata": {
    "colab_type": "text",
    "id": "FvIdbgIhjflI"
   },
   "source": [
    "We plot the runtime w.r.t the number of analysed reviews. We see an exponential growth of runtime in naive implementation. The blue line represents the LSH algorithm. The test set is too small to see any growth in computation time for LSH. (It took about 2 seconds to compute 100.000 reviews)"
   ]
  },
  {
   "cell_type": "code",
   "execution_count": 73,
   "metadata": {
    "ExecuteTime": {
     "end_time": "2021-07-04T11:40:59.232448Z",
     "start_time": "2021-07-04T11:40:58.779184Z"
    },
    "colab": {
     "autoexec": {
      "startup": false,
      "wait_interval": 0
     },
     "base_uri": "https://localhost:8080/",
     "height": 497
    },
    "colab_type": "code",
    "executionInfo": {
     "elapsed": 574,
     "status": "ok",
     "timestamp": 1525006549248,
     "user": {
      "displayName": "Piotr Tatarczyk",
      "photoUrl": "https://lh3.googleusercontent.com/a/default-user=s128",
      "userId": "105851496253926425076"
     },
     "user_tz": -120
    },
    "id": "MmHy6m6QjflJ",
    "outputId": "50c0175d-8858-4af1-dca3-cf44413690e3"
   },
   "outputs": [
    {
     "data": {
      "image/png": "[encoded data removed]",
      "text/plain": [
       "<Figure size 576x576 with 1 Axes>"
      ]
     },
     "metadata": {
      "needs_background": "light"
     },
     "output_type": "display_data"
    }
   ],
   "source": [
    "x = np.arange(25, 251, 25)\n",
    "plt.figure(figsize=[8, 8])\n",
    "plt.plot(x, [tr[1] for tr in trace], label='LSH') # LSH\n",
    "plt.plot(x, [tr[2] for tr in trace], label='NAIVE') # NAIVE\n",
    "plt.ylabel('Runtime in [s]')\n",
    "plt.xlabel('Number of reviews')\n",
    "plt.legend()\n",
    "plt.show()"
   ]
  },
  {
   "cell_type": "code",
   "execution_count": null,
   "metadata": {},
   "outputs": [],
   "source": []
  },
  {
   "cell_type": "code",
   "execution_count": null,
   "metadata": {},
   "outputs": [],
   "source": []
  }
 ],
 "metadata": {
  "accelerator": "GPU",
  "colab": {
   "collapsed_sections": [],
   "default_view": {},
   "name": "task_01_duplicate_detection.ipynb",
   "provenance": [],
   "version": "0.3.2",
   "views": {}
  },
  "kernelspec": {
   "display_name": "py37_tf231",
   "language": "python",
   "name": "py37_tf231"
  },
  "language_info": {
   "codemirror_mode": {
    "name": "ipython",
    "version": 3
   },
   "file_extension": ".py",
   "mimetype": "text/x-python",
   "name": "python",
   "nbconvert_exporter": "python",
   "pygments_lexer": "ipython3",
   "version": "3.7.10"
  },
  "toc": {
   "base_numbering": 1,
   "nav_menu": {},
   "number_sections": true,
   "sideBar": true,
   "skip_h1_title": false,
   "title_cell": "Table of Contents",
   "title_sidebar": "Contents",
   "toc_cell": false,
   "toc_position": {},
   "toc_section_display": true,
   "toc_window_display": false
  }
 },
 "nbformat": 4,
 "nbformat_minor": 1
}
